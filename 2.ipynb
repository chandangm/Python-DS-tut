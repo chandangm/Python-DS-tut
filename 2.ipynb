{
 "cells": [
  {
   "cell_type": "markdown",
   "id": "8fce2a58",
   "metadata": {},
   "source": [
    "# Conditional Statements\n",
    "\n",
    "You have:\n",
    "- If \n",
    "- else \n",
    "- if else\n",
    "\n",
    "Before that:\n",
    "\n",
    "## Boolean type\n",
    "\n",
    "**what is it**: To define something that's binary in nature. Denoted with True or False. Datatype like int, but with only 2 values.\n",
    "\n",
    "```python\n",
    "    val = True\n",
    "    val = False\n",
    "```\n",
    "\n",
    "We will come back to this later.\n"
   ]
  },
  {
   "cell_type": "code",
   "execution_count": 2,
   "id": "9b056892",
   "metadata": {},
   "outputs": [
    {
     "data": {
      "text/plain": [
       "False"
      ]
     },
     "execution_count": 2,
     "metadata": {},
     "output_type": "execute_result"
    }
   ],
   "source": [
    "#place for you to try the above. assign variables true and false value, print it."
   ]
  },
  {
   "cell_type": "markdown",
   "id": "6ba680f3",
   "metadata": {},
   "source": [
    "\n",
    "\n",
    "## Block of code\n",
    "\n",
    "- Block of code is like paragraph, they all belong with each other. \n",
    "- Denoted by either same amount of space or tabs. \n",
    "\n",
    "Example:\n",
    "```python\n",
    "    #start of block \n",
    "    a=10\n",
    "    b=20\n",
    "    print(a,b)\n",
    "    #end of block\n",
    "    \n",
    "        #start of new block \n",
    "        a=10\n",
    "        b=20\n",
    "        print(a,b)\n",
    "        #end of new block    \n",
    "```\n",
    "\n",
    "Rule:\n",
    "- you can't create block wherever you want, only when you start:\n",
    "    - if \n",
    "    - else \n",
    "    - if else \n",
    "    - for \n",
    "    - while \n",
    "    - functions\n",
    "    \n",
    "- creating blocks where it's not needed will result in 'indendation error'\n",
    "\n",
    "**TODO**\n",
    "- copy paste below code. \n",
    "\n",
    "```python\n",
    "#you will get error, fix the error, read rules if you are confused. \n",
    "print(\"something\")\n",
    "    print(\"something\")\n",
    "```\n"
   ]
  },
  {
   "cell_type": "code",
   "execution_count": 5,
   "id": "5f3af1d5",
   "metadata": {},
   "outputs": [],
   "source": [
    "#space for you to experiment. \n"
   ]
  },
  {
   "cell_type": "markdown",
   "id": "ea4e2d23",
   "metadata": {},
   "source": [
    "___"
   ]
  },
  {
   "cell_type": "markdown",
   "id": "eaf5de25",
   "metadata": {},
   "source": [
    "\n",
    "## if \n",
    "if: if something is true, then if block will run, else it won't. Look at the example, then read this again. \n",
    "\n",
    "Example:\n",
    "```python\n",
    "#print statement will only work when it's True, try making that False and see what happens.\n",
    "if True:\n",
    "    print(\"This will print\")\n",
    "```\n",
    "    \n",
    "If you have understood what if does. Continue. \n",
    "\n",
    "Syntax:\n",
    "```python\n",
    "if condition:\n",
    "    block. \n",
    "    # block is something that has same amount of space. so you can write multiple lines with same space \n",
    "    # for it to be the same block. Look at example. \n",
    "    \n",
    "    \n",
    "#Example:\n",
    "\n",
    "if True:\n",
    "    print(\"This line will print\")\n",
    "    print(\"So will this\")\n",
    "    #you can write any valid python code inside a block, not just print statements.\n",
    "    value_only_if_true = \"i'm alive\"\n",
    "```\n",
    "\n",
    "**Read the following as if it's math equation**\n",
    "```python\n",
    "\n",
    "#read the following as 'is 5 more than 4'?\n",
    "5>4 #is this true? \n",
    "1<3 #is this true? \n",
    "\n",
    "4>5 #is this true? \n",
    "```\n",
    "- Copy paste each line and check what python says\n",
    "\n",
    "---\n",
    "\n",
    "### Comparision\n",
    "\n",
    "- \\> more than, >= more than or equal to \n",
    "- < less than  <= less than or equal to\n",
    "- == equal to\n",
    "\n",
    "**Check the following** \n",
    "```python \n",
    "5>=5\n",
    "1==1\n",
    "1==0\n",
    "3<=4\n",
    "```\n",
    "\n",
    "Now start putting these equation into the condition part of the if syntax (refer to syntax part above)\n",
    "```python\n",
    "#example\n",
    "if 5>4:\n",
    "    print(\"5 is more than 4\")\n",
    "\n",
    "#example-2\n",
    "if length>breath:\n",
    "    print(f\"Length:{length} is more\")\n"
   ]
  },
  {
   "cell_type": "code",
   "execution_count": 11,
   "id": "1e6d0a94",
   "metadata": {},
   "outputs": [],
   "source": [
    "#for you to experiment with. \n",
    "\n"
   ]
  },
  {
   "cell_type": "markdown",
   "id": "e63e6b56",
   "metadata": {},
   "source": [
    "___"
   ]
  },
  {
   "cell_type": "markdown",
   "id": "084c02f1",
   "metadata": {},
   "source": [
    "## else\n",
    "\n",
    "else: runs when if condition evaulates to false. That also means you can't write else without if. \n",
    "\n",
    "```python\n",
    "if condition:\n",
    "    #if true, then this block runs.\n",
    "    block\n",
    "else:\n",
    "    #else this runs.\n",
    "    block\n",
    "```\n",
    "\n",
    "Note: There is no condition for else block. \n",
    "\n",
    "```python\n",
    "#try to figure out what's happening here? \n",
    "if length > breadth:\n",
    "    print(\"Length is more\")\n",
    "else:\n",
    "    print(\"Breadth is more\")\n",
    "```"
   ]
  },
  {
   "cell_type": "code",
   "execution_count": 12,
   "id": "98c2c594",
   "metadata": {},
   "outputs": [],
   "source": [
    "#for you to experiment with. \n"
   ]
  },
  {
   "cell_type": "markdown",
   "id": "d04d0f23",
   "metadata": {},
   "source": [
    "---"
   ]
  },
  {
   "cell_type": "markdown",
   "id": "6cb0acf8",
   "metadata": {},
   "source": [
    "## if else or else if\n",
    "\n",
    "if else: check the example. Easier to understand. \n",
    "```python\n",
    "if condition:\n",
    "    block\n",
    "elif condition:\n",
    "    block\n",
    "else:\n",
    "    block \n",
    "    \n",
    "    \n",
    "#example:\n",
    "value = 3\n",
    "if value>3:\n",
    "    print(\"Value is more than 3\")\n",
    "elif value>2:\n",
    "    print(\"Value is more than 2\")\n",
    "elif value>1:\n",
    "    print(\"value is more than 1\")\n",
    "else:\n",
    "    print(\"value is less than 1\")\n",
    "```\n",
    "\n",
    "**When to use:** When you have to check for multiple conditions, if you have an else block in the end, it will run if nothing qualifies. \n",
    "\n",
    "eg: Converting marks to grade? which marks belong to what grade? "
   ]
  },
  {
   "cell_type": "code",
   "execution_count": 16,
   "id": "d6d61986",
   "metadata": {},
   "outputs": [],
   "source": [
    "#play around. "
   ]
  },
  {
   "cell_type": "markdown",
   "id": "13638ecf",
   "metadata": {},
   "source": [
    "---"
   ]
  },
  {
   "cell_type": "markdown",
   "id": "3bb1de96",
   "metadata": {},
   "source": [
    "# FINAL task for the day\n",
    "\n",
    "**Task:** Convert Marks to grade. \n",
    "- (90-100) -> Grade A\n",
    "- (80-90) -> Grade B\n",
    "- (70-80) -> Grade C\n",
    "- (60-70) -> Grade D\n",
    "- Anythin less than 60 -> Grade E \n",
    "\n",
    "**Extra points**: Take input from user.\n",
    "\n"
   ]
  },
  {
   "cell_type": "code",
   "execution_count": null,
   "id": "6480c452",
   "metadata": {},
   "outputs": [],
   "source": []
  }
 ],
 "metadata": {
  "kernelspec": {
   "display_name": "Python 3 (ipykernel)",
   "language": "python",
   "name": "python3"
  },
  "language_info": {
   "codemirror_mode": {
    "name": "ipython",
    "version": 3
   },
   "file_extension": ".py",
   "mimetype": "text/x-python",
   "name": "python",
   "nbconvert_exporter": "python",
   "pygments_lexer": "ipython3",
   "version": "3.9.12"
  }
 },
 "nbformat": 4,
 "nbformat_minor": 5
}
