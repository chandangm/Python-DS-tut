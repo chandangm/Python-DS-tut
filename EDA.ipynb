{
 "cells": [
  {
   "cell_type": "markdown",
   "id": "4139879f",
   "metadata": {},
   "source": [
    "# What is EDA? \n",
    "\n",
    "- understanding data using visual techniques\n",
    "\n"
   ]
  },
  {
   "cell_type": "code",
   "execution_count": null,
   "id": "42719c84",
   "metadata": {},
   "outputs": [],
   "source": [
    "#for install libraries. \n",
    "!pip install pandas\n",
    "!pip install seaborn\n",
    "!pip install matplotlib"
   ]
  },
  {
   "cell_type": "code",
   "execution_count": null,
   "id": "2ded09cc",
   "metadata": {},
   "outputs": [],
   "source": [
    "#all imports\n",
    "#Imports are code that are written somewhere else and being used here. \n",
    "\n",
    "\n",
    "import pandas as pd\n",
    "import seaborn as sns\n",
    "import matplotlib.pyplot as plt"
   ]
  },
  {
   "cell_type": "code",
   "execution_count": null,
   "id": "8c8e8ad9",
   "metadata": {},
   "outputs": [],
   "source": [
    "#load csv -> using library called pandas. \n",
    "\n",
    "url = \"https://datahub.io/machine-learning/iris/r/iris.csv\"\n",
    "df = pd.read_csv(url,names=['SepalLengthCm','SepalWidthCm','PetalLengthCm','PetalWidthCm','Species'],skiprows=1)\n"
   ]
  },
  {
   "cell_type": "code",
   "execution_count": null,
   "id": "56169831",
   "metadata": {},
   "outputs": [],
   "source": [
    "\n",
    "\"\"\"\n",
    "TODO: \n",
    "- Replace 5 with any other number, see what happens!\n",
    "- Use tail() instead of head(), see what happens!\n",
    "\"\"\"\n",
    "\n",
    "# show first n rows with head()\n",
    "df.head(5)\n",
    "\n"
   ]
  },
  {
   "cell_type": "markdown",
   "id": "c6498d5e",
   "metadata": {},
   "source": [
    "---\n",
    "\n",
    "# Getting Information about the Dataset\n",
    "\n",
    "1. using shape\n",
    "2. using info()\n",
    "3. using describe()\n",
    "\n",
    "Try these:\n",
    "```python\n",
    "# what does 150 and 5 mean? look at the csv. \n",
    "df.shape\n",
    "```\n",
    "\n",
    "---\n",
    "\n",
    "```python\n",
    "# what if you wanted to know the columns name and their data types?\n",
    "df.info()\n",
    "```\n",
    "---\n",
    "\n",
    "```python\n",
    "# what if you want to understand the data through basic statistics? \n",
    "#try to explain what each of those value mean? \n",
    "\n",
    "df.describe()\n",
    "```\n",
    "\n",
    "\n"
   ]
  },
  {
   "cell_type": "code",
   "execution_count": null,
   "id": "7c0e32d1",
   "metadata": {},
   "outputs": [],
   "source": [
    "#space for you to type \n",
    "\n",
    "\n"
   ]
  },
  {
   "cell_type": "markdown",
   "id": "fd1ce7e7",
   "metadata": {},
   "source": [
    "---\n",
    "\n",
    "# Data Visualization\n",
    "\n",
    "We are using seaborn and matplotlib library to plot things. \n",
    "\n",
    "- What is the count of all the classes (type of flowers)?\n",
    "```python\n",
    "    sns.countplot(x='Species', data=df)\n",
    "    plt.show()\n",
    "```\n",
    "- relationship between the sepal length and sepal width? \n",
    "```python\n",
    "    sns.scatterplot(x='SepalLengthCm', y='SepalWidthCm',\n",
    "                hue='Species', data=df, )\n",
    " \n",
    "    # Placing Legend outside the Figure\n",
    "    plt.legend(bbox_to_anchor=(1, 1), loc=2)\n",
    "\n",
    "    plt.show()\n",
    "```\n",
    "    So was there any clean seperation in values? Check it for the following. \n",
    "    - sepal length and petal length.\n",
    "    - sepal length and petal width.\n",
    "    - petal length and petal width.\n",
    "    \n",
    "    Which one looks better? did any of them have a clear seperation? \n",
    "    \n",
    "\n",
    "What if it had more columns? then you'd have more combination of columns? \n",
    "would you do this manually everytime? \n",
    "\n",
    "Solution:\n",
    "```python\n",
    "sns.pairplot(df, hue='Species', height=2)\n",
    "```\n",
    "\n",
    "**NOTE: Spend a lot of time trying to understand pairplot. Important** "
   ]
  },
  {
   "cell_type": "code",
   "execution_count": null,
   "id": "4b519cfc",
   "metadata": {},
   "outputs": [],
   "source": [
    "#space for you to type\n",
    "\n"
   ]
  },
  {
   "cell_type": "markdown",
   "id": "dea8b8de",
   "metadata": {},
   "source": [
    "---\n",
    "\n",
    "# Task - Do the same analysis as before, but on new dataset:\n",
    "\n",
    "The Wine Quality Dataset involves predicting the quality of white wines on a scale given chemical measures of each wine.\n",
    "\n",
    "It is a multi-class classification problem, but could also be framed as a regression problem. The number of observations for each class is not balanced. There are 4,898 observations with 11 input variables and one output variable. The variable names are as follows:\n",
    "\n",
    "- Fixed acidity.\n",
    "- Volatile acidity.\n",
    "- Citric acid.\n",
    "- Residual sugar.\n",
    "- Chlorides.\n",
    "- Free sulfur dioxide.\n",
    "- Total sulfur dioxide.\n",
    "- Density.\n",
    "- pH.\n",
    "- Sulphates.\n",
    "- Alcohol.\n",
    "- Quality (score between 0 and 10).\n",
    "\n",
    "**New dataset is loaded for you in df, on the next line**"
   ]
  },
  {
   "cell_type": "code",
   "execution_count": null,
   "id": "f5fb0915",
   "metadata": {},
   "outputs": [],
   "source": [
    "#tasks: Do the same analysis on this dataset. \n",
    "\n",
    "df= pd.read_csv(\"https://archive.ics.uci.edu/ml/machine-learning-databases/wine-quality/winequality-white.csv\",delimiter=';')"
   ]
  },
  {
   "cell_type": "code",
   "execution_count": null,
   "id": "4e91c803",
   "metadata": {},
   "outputs": [],
   "source": [
    "df"
   ]
  },
  {
   "cell_type": "code",
   "execution_count": null,
   "id": "79032d3d",
   "metadata": {},
   "outputs": [],
   "source": []
  }
 ],
 "metadata": {
  "kernelspec": {
   "display_name": "Python 3 (ipykernel)",
   "language": "python",
   "name": "python3"
  },
  "language_info": {
   "codemirror_mode": {
    "name": "ipython",
    "version": 3
   },
   "file_extension": ".py",
   "mimetype": "text/x-python",
   "name": "python",
   "nbconvert_exporter": "python",
   "pygments_lexer": "ipython3",
   "version": "3.10.8"
  }
 },
 "nbformat": 4,
 "nbformat_minor": 5
}
