{
 "cells": [
  {
   "cell_type": "markdown",
   "id": "c3c2d614",
   "metadata": {},
   "source": [
    "# Comments\n",
    "\n",
    "**What are comments:** documentation, note to self or others. (Non executable)\n",
    "\n",
    "**How to add a comment:**\n",
    "\n",
    "- Single line comment, #: Doesn't extend more than a line. \n",
    "```python\n",
    "    #This is a comment\n",
    "    #Can only type in one line, can't go the next line\n",
    "```\n",
    "            \n",
    "- Multiline comment, \"\"\" \"\"\": Can extend over multiple line.\n",
    "```python\n",
    "    \"\"\"This is a multiline comment, can \n",
    "    extend over any number of line, useful for descriptive \n",
    "    explanation\"\"\"\n",
    "```\n",
    "\n",
    "\n"
   ]
  },
  {
   "cell_type": "code",
   "execution_count": 1,
   "id": "92ffa6c6",
   "metadata": {},
   "outputs": [],
   "source": [
    "#Single line comment. \n",
    "#Value a is 10\n",
    "a = 10"
   ]
  },
  {
   "cell_type": "code",
   "execution_count": 2,
   "id": "3e4aec3e",
   "metadata": {},
   "outputs": [],
   "source": [
    "\"\"\"\n",
    "Multi line comment:\n",
    "- Value of a is 10\n",
    "- type of a is int\n",
    "\"\"\"\n",
    "a = 10"
   ]
  },
  {
   "cell_type": "markdown",
   "id": "57166804",
   "metadata": {},
   "source": [
    "---"
   ]
  },
  {
   "cell_type": "markdown",
   "id": "4d67510b",
   "metadata": {},
   "source": [
    "# Variable\n",
    "\n",
    "***What are variables***: Placeholder to save something. \n",
    "\n",
    "***How to declare a variable***: \n",
    "- Rules are:\n",
    "    - Has to start with alphabet or _ eg: area, Area, _area.\n",
    "    - use _ instead of spaces, eg: radius_of_circle.\n",
    "    - Numbers can be used in any place other than 1st character. eg: bottle1, bottle2\n",
    "- Suggestion:\n",
    "    - Always try to use declarative names like 'radius_of_circle' than using 'r'. \n",
    "    \n",
    "    \n",
    "**Syntax:**\n",
    "\n",
    "```python\n",
    "variable_name = value\n",
    "\n",
    "#example\n",
    "radius_of_circle = 10\n",
    "```\n"
   ]
  },
  {
   "cell_type": "code",
   "execution_count": 4,
   "id": "3917cd5e",
   "metadata": {},
   "outputs": [],
   "source": [
    "#Create variables here which follows all the rules mentioned above.\n",
    "\n",
    "\n",
    "#Also, try to break those rules and see what happens.\n"
   ]
  },
  {
   "cell_type": "markdown",
   "id": "8e03747e",
   "metadata": {},
   "source": [
    "---"
   ]
  },
  {
   "cell_type": "markdown",
   "id": "9ec3da51",
   "metadata": {},
   "source": [
    "# Taking user input.\n",
    "\n",
    "**when do you need this**: Accept value from user. \n",
    "\n",
    "**Syntax**:\n",
    "```python\n",
    "variable = input(\"User message\")\n",
    "\n",
    "#example\n",
    "length = input(\"Length of the road\")\n",
    "\n",
    "```\n",
    "\n",
    "**How**:\n",
    "- Rules:\n",
    "    - value in variable will always be of type 'string', remember to typecast it to what you want. \n",
    "```python\n",
    "    #this gives what type of value is in it\n",
    "    type(variable_name)\n",
    "    \n",
    "    #Syntax: to convert one datatype to another (typecasting)\n",
    "    datatype(variable)\n",
    "    \n",
    "    #example -> converts length to type float\n",
    "    float(length)\n",
    "    \n",
    "    #example -> converts length to type int\n",
    "    int(length)\n",
    "    \n",
    "    #example -> converts length to type string\n",
    "    str(length)\n",
    "```\n",
    "\n",
    "**TODO**:\n",
    "\n",
    "<mark>Type this, don't copy paste</mark>\n",
    "\n",
    "```python\n",
    "#take the input from user for length\n",
    "length = input(\"Length of the road\")\n",
    "\n",
    "#print the type of value that variable length has\n",
    "print(type(length))\n",
    "\n",
    "#typecast length to float and assign it back to length\n",
    "length = float(length)\n",
    "\n",
    "#print the type of value that variable length has again. \n",
    "print(type(length))\n",
    "```\n",
    "\n",
    "**Final task**:\n",
    "- Take value of length and breadth for a rectangle and save it in respective variables.\n",
    "- type cast it to appropriate datetypes.\n",
    "- Use the above example as reference. "
   ]
  },
  {
   "cell_type": "code",
   "execution_count": 6,
   "id": "a316f6ec",
   "metadata": {},
   "outputs": [],
   "source": [
    "#space for you to experiment.\n",
    "\n"
   ]
  },
  {
   "cell_type": "markdown",
   "id": "11042acd",
   "metadata": {},
   "source": [
    "___"
   ]
  },
  {
   "cell_type": "markdown",
   "id": "ac5967f9",
   "metadata": {},
   "source": [
    "# Print\n",
    "\n",
    "**when do you need this**: Anytime you want to print some info to the screen.\n",
    "\n",
    "**How**:\n",
    "\n",
    "- Rules:\n",
    "    - print takes only string as final input to it, so anything you give needs to have a string format of it\n",
    "      or could be turned into string. (Will explain this in examples below)\n",
    "    \n",
    "    \n",
    "**Syntax & Examples:**\n",
    "```python  \n",
    "    #basic print\n",
    "    print()\n",
    "    \n",
    "    #print with message in it \n",
    "    print(\"This is a message\")\n",
    "    \n",
    "    #print a variable value.\n",
    "    print(length)\n",
    "    \n",
    "    #print with message and variable value.\n",
    "    print(\"Value of length\",length)\n",
    "\n",
    "    #print with message and multiple variable value.\n",
    "    print(\"Value of length:\",length,\" Value of breadth:\",breadth)\n",
    "\n",
    "```\n",
    "\n",
    "**TODO:**\n",
    "- play with printing messages and with variable value in it. \n"
   ]
  },
  {
   "cell_type": "code",
   "execution_count": 7,
   "id": "557b19e4",
   "metadata": {},
   "outputs": [],
   "source": [
    "#Space for you to play around.\n",
    "\n"
   ]
  },
  {
   "cell_type": "markdown",
   "id": "39de10dc",
   "metadata": {},
   "source": [
    "# Easier and better Print\n",
    "\n",
    "**Why**: Normal print becomes unreadable when it get's complex. \n",
    "\n",
    "**Solution**\n",
    "```python\n",
    "    #prefix \"\" with f -> this is called formatted string\n",
    "    print(f\"\")\n",
    "    \n",
    "    #basic print -> no need to used formatted string here. basic one is sufficent. \n",
    "    print(f\"This is a message\")\n",
    "    \n",
    "    #useful: use {variable name}, python replaces that with value while executing it. \n",
    "    print(f\"Value of length:{length}, Vaue of breadth:{breadth}\")\n",
    "```\n",
    "\n",
    "**TODO:**\n",
    "- What you had done before with print, rewrite those with this formatted string."
   ]
  },
  {
   "cell_type": "code",
   "execution_count": 9,
   "id": "b2f8bbb7",
   "metadata": {},
   "outputs": [],
   "source": [
    "#space for you to play around\n",
    "\n"
   ]
  },
  {
   "cell_type": "code",
   "execution_count": null,
   "id": "7586d81f",
   "metadata": {},
   "outputs": [],
   "source": []
  }
 ],
 "metadata": {
  "kernelspec": {
   "display_name": "Python 3 (ipykernel)",
   "language": "python",
   "name": "python3"
  },
  "language_info": {
   "codemirror_mode": {
    "name": "ipython",
    "version": 3
   },
   "file_extension": ".py",
   "mimetype": "text/x-python",
   "name": "python",
   "nbconvert_exporter": "python",
   "pygments_lexer": "ipython3",
   "version": "3.9.12"
  }
 },
 "nbformat": 4,
 "nbformat_minor": 5
}
