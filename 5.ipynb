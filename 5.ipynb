{
 "cells": [
  {
   "cell_type": "markdown",
   "id": "af66920c",
   "metadata": {},
   "source": [
    "# Problems\n",
    "\n",
    "### Convert character from lower case to upper case. \n",
    "\n",
    "Input: string, convert only a-z in it, nothing else. \n",
    "output: string.\n",
    "\n",
    "```python\n",
    "\"\"\"\n",
    "Sample Input: \"this is a value\"\n",
    "Sample Output: \"THIS IS A VALUE\"\n",
    "\"\"\"\n",
    "\n",
    "\"\"\"\n",
    "Sample Input: \"i have a 10 in me\"\n",
    "Sample Output: \"I HAVE 10 IN ME\"\n",
    "\"\"\"   \n",
    "\n",
    "#HINT: Use ord() and chr() functions. \n",
    "```\n"
   ]
  },
  {
   "cell_type": "code",
   "execution_count": 2,
   "id": "3c6581e9",
   "metadata": {},
   "outputs": [
    {
     "name": "stdout",
     "output_type": "stream",
     "text": [
      "this is a value\n"
     ]
    }
   ],
   "source": [
    "def convert_to_uppercase(val):\n",
    "    print(val)\n",
    "\n",
    "\n",
    "\n",
    "value = \"this is a value\"\n",
    "# value = \"i have a 10 in me\"\n",
    "\n",
    "convert_to_uppercase(value)"
   ]
  },
  {
   "cell_type": "markdown",
   "id": "739de162",
   "metadata": {},
   "source": [
    "### Problem: Convert binary to number. \n",
    "\n",
    "```python\n",
    "\"\"\"\n",
    "input: 1010\n",
    "output: 10\n",
    "\n",
    "input: 1100\n",
    "output: 12\n",
    "\n",
    "input: 11010\n",
    "output: 26\n",
    "```"
   ]
  },
  {
   "cell_type": "code",
   "execution_count": 3,
   "id": "18fa4fef",
   "metadata": {},
   "outputs": [
    {
     "name": "stdout",
     "output_type": "stream",
     "text": [
      "11010\n"
     ]
    }
   ],
   "source": [
    "def convert_to_number(value):\n",
    "    print(value)\n",
    "    \n",
    "\n",
    "val = \"1010\"\n",
    "# val = \"1100\"\n",
    "# val = \"11010\"\n",
    "\n",
    "convert_to_number(val)"
   ]
  },
  {
   "cell_type": "code",
   "execution_count": null,
   "id": "85b8ee0f",
   "metadata": {},
   "outputs": [],
   "source": []
  }
 ],
 "metadata": {
  "kernelspec": {
   "display_name": "Python 3 (ipykernel)",
   "language": "python",
   "name": "python3"
  },
  "language_info": {
   "codemirror_mode": {
    "name": "ipython",
    "version": 3
   },
   "file_extension": ".py",
   "mimetype": "text/x-python",
   "name": "python",
   "nbconvert_exporter": "python",
   "pygments_lexer": "ipython3",
   "version": "3.9.12"
  }
 },
 "nbformat": 4,
 "nbformat_minor": 5
}
