{
 "cells": [
  {
   "cell_type": "markdown",
   "id": "5832adc6",
   "metadata": {},
   "source": [
    "# Loops\n",
    "\n",
    "**USED WHEN** - when you need to repeat a set of tasks multiple times. \n",
    "\n",
    "2 types of loops: (RULES)\n",
    "- For: Used when you know how many times you have to repeat.\n",
    "- While: Used when you **don't** know how many times to repeat. \n",
    "\n",
    "---\n",
    "\n",
    "## FOR\n",
    "\n",
    "```python\n",
    "\n",
    "items = [\"coke\",\"pepsi\",\"mirinda\",\"limca\"]\n",
    "\n",
    "#what do you get in element?\n",
    "for element in items:\n",
    "    print(element)\n",
    "\n",
    "-----\n",
    "\n",
    "\n",
    "#what do you get in index,element?\n",
    "#what did i change here? \n",
    "for index,element in enumerate(items):\n",
    "    print(f\"INDEX:{index} VALUE:{element}\")\n",
    "    \n",
    "\n",
    "-----\n",
    "\n",
    "\n",
    "#real life problem:\n",
    "#square every number in a list and print. \n",
    "\n",
    "numbers = [1,2,3,4,5,6]\n",
    "for number in numbers:\n",
    "    print(f\"Number:{number}, Square:{number*number}\")\n",
    "    \n",
    "#one more way of writing it (BETTER ONE)\n",
    "\n",
    "numbers = [1,2,3,4,5,6]\n",
    "for number in numbers:\n",
    "    square = number*number\n",
    "    print(f\"Number:{number}, Square:{square}\")\n",
    "    \n",
    "#what did i change in above example? \n",
    "\n",
    "\n",
    "\n",
    "# range() function\n",
    "#syntax: range(start,end, step_size)\n",
    "print(list(range(0,5,1))) #goes from 0-5, with 1 increment.\n",
    "print(list(range(0,5,2))) # what happens here? \n",
    "print(list(range(5,2))) # what happens here? \n",
    "print(list(range(5))) # what happens here? \n",
    "\n",
    "#what all is needed for range, what can you skip? \n",
    "\n",
    "\n",
    "for i in range(5):\n",
    "    print(f\"PRINT {i}th time\")\n",
    "#we can use range like this. when we have to repeat something for n times!! REMEMBER. \n",
    "\n",
    "\n",
    "```\n",
    "\n"
   ]
  },
  {
   "cell_type": "code",
   "execution_count": 3,
   "id": "d989ac71",
   "metadata": {},
   "outputs": [],
   "source": [
    "#type code from above, read the comments and experiment here \n",
    "\n",
    "\n",
    "\n",
    "\n",
    "\n"
   ]
  },
  {
   "cell_type": "markdown",
   "id": "b8233536",
   "metadata": {},
   "source": [
    "## While \n",
    "\n",
    "\n",
    "```python\n",
    "   \n",
    "while True:\n",
    "    user_input = str(input(\"Enter a value, enter Q to exit\"))\n",
    "    if user_input == \"Q\":\n",
    "        print(\"User pressed Q, exiting while with BREAK\")\n",
    "        break\n",
    "    else:\n",
    "        print(f\"User entered:{user_input}\")\n",
    "\n",
    "# run the above code, following things to check.\n",
    "# 1.How this runs forever unless you give Q to exit. \n",
    "# 2.use of break to exit from while!! we use break to exit from loops, whether it's while or for!!\n",
    "# 3.How we have used everything we have learnt so far. \n",
    "\n",
    "```"
   ]
  },
  {
   "cell_type": "code",
   "execution_count": 4,
   "id": "4256fce5",
   "metadata": {},
   "outputs": [],
   "source": [
    "#type code from, read the comments and experiment here. \n",
    "\n",
    "\n",
    "\n",
    "\n",
    "\n"
   ]
  },
  {
   "cell_type": "markdown",
   "id": "5619daf0",
   "metadata": {},
   "source": [
    "# Problems:\n",
    "\n",
    "Before we start, i want you to revise everything we have learnt so far, go from 1-4.ipynb files. \n",
    "\n",
    "### Problem: Get filename and ext from a path"
   ]
  },
  {
   "cell_type": "code",
   "execution_count": 9,
   "id": "78cd563a",
   "metadata": {},
   "outputs": [
    {
     "name": "stdout",
     "output_type": "stream",
     "text": [
      "/Users/chandangm/Documents/GitHub/Python-DS-tut/graduation.doc\n"
     ]
    }
   ],
   "source": [
    "def get_filename_ext(path):\n",
    "    result = None\n",
    "    print(path)\n",
    "    #add your logic here. print the result on screen. \n",
    "    \n",
    "    \n",
    "#make sure it works for both of the input. comment it out to toggle between p values. \n",
    "p = \"/Users/chandangm/Documents/GitHub/Python-DS-tut/graduation.doc\"\n",
    "\"\"\"\n",
    "output for this:\n",
    "\n",
    "FILENAME: graduation\n",
    "extension: doc\n",
    "\n",
    "\"\"\"\n",
    "\n",
    "# p = \"/Users/chandangm/Documents/GitHub/landscape.png\"\n",
    "\"\"\"\n",
    "output for this:\n",
    "\n",
    "FILENAME: landscape\n",
    "extension: png\n",
    "\n",
    "\"\"\"\n",
    "\n",
    "get_filename_ext(p)\n",
    "\n",
    "#HINT: Use str slicing and spliting. "
   ]
  },
  {
   "cell_type": "markdown",
   "id": "a3c91451",
   "metadata": {},
   "source": [
    "### Problem: Get port number and service"
   ]
  },
  {
   "cell_type": "code",
   "execution_count": 10,
   "id": "e00d5b02",
   "metadata": {},
   "outputs": [
    {
     "name": "stdout",
     "output_type": "stream",
     "text": [
      "http://localhost:8888/notebooks/4.ipynb\n"
     ]
    }
   ],
   "source": [
    "#make sure datatype of portnumber is INT and service is HTTP.\n",
    "\n",
    "\n",
    "def get_port_number_service(address):\n",
    "    print(address)\n",
    "    #add your logic here. print the result on screen. \n",
    "\n",
    "    \n",
    "add = \"http://localhost:8888/notebooks/4.ipynb\"\n",
    "\"\"\"\n",
    "output for this:\n",
    "\n",
    "Port number: 8888\n",
    "Service: http\n",
    "\"\"\"\n",
    "\n",
    "# add = \"ftp://192.168.39.48:56/server\"\n",
    "\"\"\"\n",
    "output for this:\n",
    "\n",
    "Port number: 56\n",
    "Service: ftp\n",
    "\"\"\"\n",
    "\n",
    "get_port_number_service(add)\n",
    "    "
   ]
  },
  {
   "cell_type": "markdown",
   "id": "ede03cb0",
   "metadata": {},
   "source": [
    "### Problem: Get IP address"
   ]
  },
  {
   "cell_type": "code",
   "execution_count": 11,
   "id": "26c125f7",
   "metadata": {},
   "outputs": [
    {
     "name": "stdout",
     "output_type": "stream",
     "text": [
      "192.168.39.48\n"
     ]
    }
   ],
   "source": [
    "# IP address format: numbers.numbers.numbers.numbers (total 4 set of numbers seperated by .)\n",
    "\n",
    "def get_ip_address(address):\n",
    "    print(address)\n",
    "    #add your logic here. print the result on screen. \n",
    "    \n",
    "    \n",
    "address = \"192.168.39.48\"\n",
    "\"\"\"output:\n",
    "\n",
    "FIRST: 192\n",
    "SECOND: 168\n",
    "THIRD: 39\n",
    "FOURTH: 48\n",
    "\n",
    "\"\"\"\n",
    "#address = \"56.49.566.32\"\n",
    "#addres = \"111.110.23.456\"\n",
    "\n",
    "get_ip_address(address)\n"
   ]
  },
  {
   "cell_type": "code",
   "execution_count": null,
   "id": "8655fba1",
   "metadata": {},
   "outputs": [],
   "source": []
  },
  {
   "cell_type": "code",
   "execution_count": null,
   "id": "3a0d0958",
   "metadata": {},
   "outputs": [],
   "source": []
  }
 ],
 "metadata": {
  "kernelspec": {
   "display_name": "Python 3 (ipykernel)",
   "language": "python",
   "name": "python3"
  },
  "language_info": {
   "codemirror_mode": {
    "name": "ipython",
    "version": 3
   },
   "file_extension": ".py",
   "mimetype": "text/x-python",
   "name": "python",
   "nbconvert_exporter": "python",
   "pygments_lexer": "ipython3",
   "version": "3.9.12"
  }
 },
 "nbformat": 4,
 "nbformat_minor": 5
}
