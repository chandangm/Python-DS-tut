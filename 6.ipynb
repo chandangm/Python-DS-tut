{
 "cells": [
  {
   "cell_type": "markdown",
   "id": "2c056785",
   "metadata": {},
   "source": [
    "# DICT - dictionary\n",
    "\n",
    "dictinary are exactly what it sounds like. it's a data structure like list, but with few difference\n",
    "\n",
    "In list, you have elements in it. In dict, you have something called key and value. You can access value with key. \n",
    "\n",
    "```python\n",
    "\n",
    "#init/creating a dict\n",
    "d = {}\n",
    "d = dict()\n",
    "\n",
    "#syntax of values inside it. \n",
    "d[key] = value\n",
    "\n",
    "#printing value \n",
    "d[key]\n",
    "\n",
    "\n",
    "#examples.\n",
    "\n",
    "#has 3 keys: name, class, subjects. Note that subjects has list inside it. \n",
    "d = {\n",
    "\"name\":\"ME\",\n",
    "\"class\":\"10th\",\n",
    "\"subjects\":[\"eng\",\"science\",\"math\"]\n",
    "}\n",
    "\n",
    "#to access \"ME\", we use it's key.\n",
    "d[\"name\"]\n",
    "\n",
    "#similarly - try accessing \"10th\" and [\"eng\",\"science\",\"math\"]\n",
    "\n",
    "#To change value of a key\n",
    "d[\"name\"] = \"John\"\n",
    "print(d)\n",
    "\n",
    "#subjects key has a list inside, so can we append elements to that list? \n",
    "d[\"subjects\"].append(\"accounts\")\n",
    "\n",
    "#remember: d[\"subjects\"] -> return a list, so you can treat it like a like. \n",
    "\n",
    "#to remove a key \n",
    "del d[\"name\"]\n",
    "\n",
    "```"
   ]
  },
  {
   "cell_type": "code",
   "execution_count": 2,
   "id": "37d994e5",
   "metadata": {},
   "outputs": [],
   "source": [
    "#space for you to try out.\n",
    "\n",
    "\n",
    "\n",
    "\n"
   ]
  },
  {
   "cell_type": "markdown",
   "id": "8ef1bca3",
   "metadata": {},
   "source": [
    "# Other things with dict \n",
    "\n",
    "```python\n",
    "\n",
    "#what happens if you write a for loop on dict? Try it out. \n",
    "d = {\n",
    "\"name\":\"ME\",\n",
    "\"class\":\"10th\",\n",
    "\"subjects\":[\"eng\",\"science\",\"math\"]\n",
    "}\n",
    "\n",
    "for not_sure in d:\n",
    "    print(not_sure)\n",
    "\n",
    "#what did we get? \n",
    "\n",
    "#can we get all the value using above example? Try it out.\n",
    "```"
   ]
  },
  {
   "cell_type": "code",
   "execution_count": 3,
   "id": "f33802db",
   "metadata": {},
   "outputs": [],
   "source": [
    "#space for you to try \n",
    "\n",
    "\n"
   ]
  },
  {
   "cell_type": "markdown",
   "id": "c6bbc8f0",
   "metadata": {},
   "source": [
    "# Problems\n",
    "\n",
    "1. Count vowels and consonants in a string.\n",
    "- a,e,i,o,u -> are vowels\n",
    "- everything else -> consonants. \n",
    "\n"
   ]
  },
  {
   "cell_type": "code",
   "execution_count": 4,
   "id": "91758a73",
   "metadata": {},
   "outputs": [],
   "source": [
    "#write function for the problem, give it `count_items` name, and take a string input.\n",
    "\n",
    "#call that function here, check previous notebook for reference. \n"
   ]
  },
  {
   "cell_type": "markdown",
   "id": "54ac55e8",
   "metadata": {},
   "source": [
    "2. Count all characters in a string."
   ]
  },
  {
   "cell_type": "code",
   "execution_count": 5,
   "id": "8691d2a0",
   "metadata": {},
   "outputs": [],
   "source": [
    "#same as above\n",
    "\n"
   ]
  },
  {
   "cell_type": "code",
   "execution_count": null,
   "id": "8140d172",
   "metadata": {},
   "outputs": [],
   "source": []
  }
 ],
 "metadata": {
  "kernelspec": {
   "display_name": "Python 3 (ipykernel)",
   "language": "python",
   "name": "python3"
  },
  "language_info": {
   "codemirror_mode": {
    "name": "ipython",
    "version": 3
   },
   "file_extension": ".py",
   "mimetype": "text/x-python",
   "name": "python",
   "nbconvert_exporter": "python",
   "pygments_lexer": "ipython3",
   "version": "3.9.13"
  }
 },
 "nbformat": 4,
 "nbformat_minor": 5
}
