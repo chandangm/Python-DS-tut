{
 "cells": [
  {
   "cell_type": "markdown",
   "id": "f5b4935f",
   "metadata": {},
   "source": [
    "# Data structure\n",
    "\n",
    "## List:\n",
    "\n",
    "**What is list**: bunch or collection of items/variables. \n",
    "\n",
    "**Rules**:\n",
    "- Defined with [ ]\n",
    "- can have different datatypes in the same list, i.e: Hetrogenous in nature. \n",
    "- you can nest it, list in list.\n",
    "- **DON'T CREATE A LIST WITH NAME 'LIST'.**\n",
    "\n",
    "```python\n",
    "\n",
    "    #syntax\n",
    "    variable = [elements_comma_seperated,elements_comma_seperated,elements_comma_seperated]\n",
    "    \n",
    "    #example\n",
    "    this_is_a_list = [1,2,3,4,5,\"a\",\"c\",5.0]\n",
    "    \n",
    "    #print list and see how it's printed. \n",
    "    print(this_is_a_list)\n",
    "    \n",
    "    --------------------------------------------\n",
    "    \n",
    "    #Creating empty list\n",
    "    #Method-1: Use empty []\n",
    "    arr = []\n",
    "    \n",
    "    #Method-2: Use list() function. \n",
    "    arr = list()\n",
    "    \n",
    "    --------------------------------------------\n",
    "    \n",
    "    #Adding values to the list\n",
    "    \n",
    "    arr.append(1)\n",
    "    arr.append(\"a\")\n",
    "    arr.append(5.0)\n",
    "    \n",
    "    \n",
    "    #Accessing elements/values in list\n",
    "    #positions in array are called *INDEX*\n",
    "    arr = [\"a\",\"b\",\"c\"]\n",
    "    \n",
    "    #RULE: index always starts with 0 in python. \n",
    "    #So if you want to access 'a' from array above, it's in index 0. \n",
    "    print(arr[0])\n",
    "    \n",
    "    #to get 'c'\n",
    "    print(arr[2])\n",
    "    \n",
    "```"
   ]
  },
  {
   "cell_type": "code",
   "execution_count": 1,
   "id": "0c891ae6",
   "metadata": {},
   "outputs": [],
   "source": [
    "#place for you to experiment. \n",
    "\n",
    "\n"
   ]
  },
  {
   "cell_type": "markdown",
   "id": "4d9b5af7",
   "metadata": {},
   "source": [
    "### TODO:\n",
    "\n",
    "- Create an array with name 'juice'.\n",
    "- Add pepsi, coke, mirinda, fanta, maaza to it. \n",
    "- Access mirinda element and print it on the screen. (Refer above example if you have doubt)\n"
   ]
  },
  {
   "cell_type": "code",
   "execution_count": 3,
   "id": "a911aaac",
   "metadata": {},
   "outputs": [],
   "source": [
    "#Answer:\n",
    "\n",
    "\n",
    "\n"
   ]
  },
  {
   "cell_type": "markdown",
   "id": "b553dcd8",
   "metadata": {},
   "source": [
    "## Continuation of List\n",
    "\n",
    "\n",
    "```python\n",
    "\n",
    "    \"\"\"\n",
    "    So far, you know:\n",
    "    - how to create.\n",
    "    - how to add elements.\n",
    "    - how to access elements.\n",
    "    \"\"\"\n",
    "    \n",
    "    #removing element from list. \n",
    "    \n",
    "    #Syntax\n",
    "    list_variable.remove(value)\n",
    "    \n",
    "    #example:\n",
    "    arr = [1,2,3,4,5,6]\n",
    "    arr.remove(3)\n",
    "    print(arr)\n",
    "    #element with value 3 will be removed. \n",
    "    \n",
    "    ---\n",
    "    \n",
    "    #Check what happens here? Explain\n",
    "    arr = [1,2,2,2,3,4]\n",
    "    arr.remove(2)\n",
    "    print(arr)\n",
    "    \n",
    "    \n",
    "    #How to change value of an element in the list? \n",
    "    arr = [1,2,3,4,5]\n",
    "    arr[2] = \"change1\"\n",
    "    print(f\"After first change arr:{arr}\")\n",
    "    arr[0] = \"change2\"\n",
    "    print(f\"After second change arr:{arr}\")\n",
    "    \n",
    "    #does this work?\n",
    "    arr[7] = 'does_this_matter'\n",
    "    \n",
    "    #try this after the above!!\n",
    "    print(len(arr)) #what did this give? \n",
    "```"
   ]
  },
  {
   "cell_type": "code",
   "execution_count": 15,
   "id": "80f783af",
   "metadata": {},
   "outputs": [],
   "source": [
    "#place for you to try:\n",
    "\n",
    "\n"
   ]
  },
  {
   "cell_type": "markdown",
   "id": "e716b752",
   "metadata": {},
   "source": [
    "### TODO:\n",
    "\n",
    "- Create an empty array\n",
    "- Append any 5 values to it using append function. \n",
    "- access each of them and print it.\n",
    "- Access 3rd value and change it to \"apple\", print the array.\n",
    "- Then remove the element that was changed to \"apple\".\n"
   ]
  },
  {
   "cell_type": "code",
   "execution_count": 16,
   "id": "9738a7c0",
   "metadata": {},
   "outputs": [],
   "source": [
    "#Answer:\n",
    "\n",
    "\n"
   ]
  },
  {
   "cell_type": "markdown",
   "id": "47090d89",
   "metadata": {},
   "source": [
    "---"
   ]
  },
  {
   "cell_type": "markdown",
   "id": "0a2074f0",
   "metadata": {},
   "source": [
    "# String Manipulation\n",
    "\n",
    "Rule:\n",
    "- String is also list? But doesn't look like it, right? \n",
    "  Try accessing string with [ ] in it? does it work?\n",
    "  \n",
    "  ```python\n",
    "    name = \"john\"\n",
    "    print(name[0])\n",
    "    print(len(name))\n",
    "    \n",
    "    #check if append works? \n",
    "    name.append(\"a\")\n",
    "  ```\n",
    "\n",
    "### Slicing: \n",
    "\n",
    "```python\n",
    "    name = \"John H Kelly\"\n",
    "    \n",
    "    #Let's say i want john, which is taking the index of 0,1,2,3 (list indexing concept)\n",
    "    print(name[0:3])\n",
    "    #did it work? did you get john? \n",
    "    print(name[0:4]). #did this work? why? \n",
    "    \n",
    "```\n",
    "\n",
    "**TODO:**\n",
    "- Try getting Kelly?\n",
    "- Try this, Explain what happens? \n",
    "```python\n",
    "    print(name[:])\n",
    "```\n",
    "- For fun, give negative number in index place. \n",
    "```python \n",
    "    print(name[-1])  #will this work?\n",
    "```\n",
    "- Try slicing with negative numbers too. \n"
   ]
  },
  {
   "cell_type": "code",
   "execution_count": 20,
   "id": "2059f2de",
   "metadata": {},
   "outputs": [],
   "source": [
    "#Space for you \n",
    "\n",
    "\n"
   ]
  },
  {
   "cell_type": "markdown",
   "id": "e2f5958b",
   "metadata": {},
   "source": [
    "# String Split \n",
    "\n",
    "```python\n",
    "    name = \"John H Kelly\"\n",
    "    \n",
    "    \"\"\"\n",
    "    what if i want each part of name, i.e: first name, middle name, last name from above?\n",
    "    can i just use slicing? like this\"\"\"\n",
    "    \n",
    "    print(f\"First name:{name[0:4]}\")\n",
    "    first_name = name[0:4]\n",
    "    second_name = name[5:6]\n",
    "    last_name = name[7:]\n",
    "    \n",
    "    \"\"\"\n",
    "    But will the same code work when the name changes? \n",
    "    \"\"\"\n",
    "    name = \"Damodar Anik\" #will the same code for first, second and last name work here? CHECK!!!!!\n",
    "    \n",
    "```\n",
    "\n",
    "\n",
    "### SPLITING\n",
    "\n",
    "```python\n",
    "    name = \"John H Kelly\"\n",
    "    print(name.split(\" \")) # what happened? what datatype is it? How do you check it? (Refer to 1.ipynb)\n",
    "    \n",
    "    \n",
    "    name = \"John.H.Kelly\"\n",
    "    print(name.split(\".\")) #What changed in this example, do we get the same result? \n",
    "    \n",
    "    name = \"John#H#Kelly\"\n",
    "    print(name.split(\"#\")) #here? \n",
    "    \n",
    "    \n",
    "    #what do i do here? \n",
    "    name = \"John^H^Kelly^Brut\"  #do split here, but on what? refer to examples above and solve. \n",
    "    \n",
    "```"
   ]
  },
  {
   "cell_type": "code",
   "execution_count": 32,
   "id": "ad872f25",
   "metadata": {},
   "outputs": [],
   "source": [
    "#place for you to try.\n",
    "\n",
    "\n"
   ]
  },
  {
   "cell_type": "markdown",
   "id": "a62f30db",
   "metadata": {},
   "source": [
    "# FINAL TASKS FOR THE DAY:\n",
    "\n",
    "- You've learnt Slicing for String, does it work for list too? (Refer to string manipulation RULE).\n",
    "- Same for giving negative numbers in index for string, does it work too on list? \n",
    "  if yes, then play with them. if not, let me know. \n",
    "- Given a path of file, get me the filetype. \n",
    "  eg: /Users/chandangm/Documents/GitHub/Python-DS-tut/<mark>file.csv</mark> -> path\n",
    "      result: File type: csv\n",
    "              File name: file\n"
   ]
  },
  {
   "cell_type": "code",
   "execution_count": 33,
   "id": "fd72f2aa",
   "metadata": {},
   "outputs": [],
   "source": [
    "#Problem space\n",
    "\n",
    "\n",
    "\n"
   ]
  },
  {
   "cell_type": "code",
   "execution_count": null,
   "id": "81c6ff5f",
   "metadata": {},
   "outputs": [],
   "source": []
  }
 ],
 "metadata": {
  "kernelspec": {
   "display_name": "Python 3 (ipykernel)",
   "language": "python",
   "name": "python3"
  },
  "language_info": {
   "codemirror_mode": {
    "name": "ipython",
    "version": 3
   },
   "file_extension": ".py",
   "mimetype": "text/x-python",
   "name": "python",
   "nbconvert_exporter": "python",
   "pygments_lexer": "ipython3",
   "version": "3.9.12"
  }
 },
 "nbformat": 4,
 "nbformat_minor": 5
}
